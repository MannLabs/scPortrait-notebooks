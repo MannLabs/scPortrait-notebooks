{
 "cells": [
  {
   "cell_type": "markdown",
   "metadata": {},
   "source": [
    "# Sharded Cellpose Segmentation"
   ]
  },
  {
   "cell_type": "code",
   "execution_count": null,
   "metadata": {},
   "outputs": [],
   "source": [
    "import os\n",
    "\n",
    "import h5py\n",
    "import matplotlib.pyplot as plt\n",
    "import numpy as np\n",
    "import pandas as pd\n",
    "\n",
    "from scportrait.pipeline.featurization import CellFeaturizer\n",
    "from scportrait.pipeline.extraction import HDF5CellExtraction\n",
    "from scportrait.pipeline.project import Project\n",
    "from scportrait.pipeline.segmentation.workflows import ShardedCytosolOnlySegmentationCellpose\n",
    "from scportrait.pipeline.selection import LMDSelection"
   ]
  },
  {
   "cell_type": "code",
   "execution_count": null,
   "metadata": {},
   "outputs": [],
   "source": [
    "project_location = \"project_sharded\"\n",
    "\n",
    "project = Project(\n",
    "    os.path.abspath(project_location),\n",
    "    config_path=\"config_example1.yml\",\n",
    "    overwrite=True,\n",
    "    debug=True,\n",
    "    segmentation_f=ShardedCytosolOnlySegmentationCellpose,\n",
    "    extraction_f=HDF5CellExtraction,\n",
    "    featurization_f=CellFeaturizer,\n",
    "    selection_f=LMDSelection,\n",
    ")"
   ]
  },
  {
   "cell_type": "code",
   "execution_count": null,
   "metadata": {},
   "outputs": [],
   "source": [
    "from scportrait.data._datasets import dataset_1\n",
    "\n",
    "dataset_1_path = dataset_1()\n",
    "\n",
    "# these example images are downloaded from the human protein atlas (www.proteinatlas.org)\n",
    "images = [f\"{dataset_1_path}/Ch1.tif\", f\"{dataset_1_path}/Ch2.tif\", f\"{dataset_1_path }/Ch3.tif\"]\n",
    "\n",
    "project.load_input_from_tif_files(images)"
   ]
  },
  {
   "cell_type": "code",
   "execution_count": null,
   "metadata": {},
   "outputs": [],
   "source": [
    "# visualize input images as example\n",
    "# it is not recommended to execute this block with large input images as it will compute for some time\n",
    "\n",
    "def colorize(im, color, clip_percentile=0.0):\n",
    "    \"\"\"\n",
    "    Helper function to create an RGB image from a single-channel image using a\n",
    "    specific color.\n",
    "    \"\"\"\n",
    "    # Check that we do just have a 2D image\n",
    "    if im.ndim > 2 and im.shape[2] != 1:\n",
    "        raise ValueError(\"This function expects a single-channel image!\")\n",
    "\n",
    "    # Rescale the image according to how we want to display it\n",
    "    im_scaled = im.astype(np.float32) - np.percentile(im, clip_percentile)\n",
    "    im_scaled = im_scaled / np.percentile(im_scaled, 100 - clip_percentile)\n",
    "    im_scaled = np.clip(im_scaled, 0, 1)\n",
    "\n",
    "    # Need to make sure we have a channels dimension for the multiplication to work\n",
    "    im_scaled = np.atleast_3d(im_scaled)\n",
    "\n",
    "    # Reshape the color (here, we assume channels last)\n",
    "    color = np.asarray(color).reshape((1, 1, -1))\n",
    "    return im_scaled * color\n",
    "\n",
    "\n",
    "def generate_composite(images, colors=None, plot=False):\n",
    "    if colors is None:\n",
    "        colors = [(0, 0, 1), (0, 1, 0), (1, 0, 0), (1, 0, 1)]\n",
    "    colorized = []\n",
    "    for image, color in zip(images, colors, strict=False):\n",
    "        image = colorize(image, color, 0.0)\n",
    "        colorized.append(image)\n",
    "\n",
    "    if plot:\n",
    "        for i in colorized:\n",
    "            plt.figure()\n",
    "            plt.imshow(i)\n",
    "\n",
    "    image = colorized[0]\n",
    "    for i in range(len(colorized) - 1):\n",
    "        image += colorized[i + 1]\n",
    "\n",
    "    return np.clip(image, 0, 1)\n",
    "\n",
    "\n",
    "fig, axs = plt.subplots(1, 4, figsize=(10, 4))\n",
    "axs[0].imshow(project.input_image[0])\n",
    "axs[0].axis(\"off\")\n",
    "\n",
    "axs[1].imshow(project.input_image[1])\n",
    "axs[1].axis(\"off\")\n",
    "\n",
    "axs[2].imshow(project.input_image[2])\n",
    "axs[2].axis(\"off\")\n",
    "\n",
    "img = generate_composite(project.input_image)\n",
    "\n",
    "axs[3].imshow(img)\n",
    "axs[3].axis(\"off\")\n",
    "\n",
    "fig.tight_layout()"
   ]
  },
  {
   "cell_type": "code",
   "execution_count": null,
   "metadata": {},
   "outputs": [],
   "source": [
    "project.segment()"
   ]
  },
  {
   "cell_type": "code",
   "execution_count": null,
   "metadata": {},
   "outputs": [],
   "source": [
    "plt.figure()\n",
    "plt.imshow(project.sdata[\"seg_all_cytosol\"])\n",
    "plt.axis(\"off\")"
   ]
  },
  {
   "cell_type": "code",
   "execution_count": null,
   "metadata": {},
   "outputs": [],
   "source": [
    "project.extract()"
   ]
  },
  {
   "cell_type": "code",
   "execution_count": null,
   "metadata": {},
   "outputs": [],
   "source": [
    "with h5py.File(f\"{project_location}/extraction/data/single_cells.h5\") as hf:\n",
    "    index = hf.get(\"single_cell_index\")\n",
    "    images = hf.get(\"single_cell_data\")\n",
    "\n",
    "    print(images.shape)\n",
    "\n",
    "    n_cells = [2, 3, 4, 5]\n",
    "    fig, axs = plt.subplots(len(n_cells), 4, figsize=(4 * 2, len(n_cells) * 2))\n",
    "    labels = [\"cytosol mask\", \"nucleus\", \"cytosol\", \"additional channel\"]\n",
    "\n",
    "    for i, id in enumerate(n_cells):\n",
    "        cell_id = index[id][1]\n",
    "        image = images[id]\n",
    "\n",
    "        for n, _img in enumerate(image):\n",
    "            axs[i, n].imshow(_img)\n",
    "\n",
    "            if n == 0:\n",
    "                axs[i, n].set_ylabel(f\"cell {cell_id}\", fontsize=10, rotation=0, labelpad=25)\n",
    "                axs[i, n].xaxis.set_visible(False)\n",
    "                axs[i, n].tick_params(left=False, labelleft=False)\n",
    "            else:\n",
    "                axs[i, n].axis(\"off\")\n",
    "\n",
    "            if i == 0:\n",
    "                axs[i, n].set_title(labels[n], fontsize=10)\n",
    "    fig.tight_layout()"
   ]
  },
  {
   "cell_type": "code",
   "execution_count": null,
   "metadata": {},
   "outputs": [],
   "source": [
    "project.featurize()"
   ]
  },
  {
   "cell_type": "code",
   "execution_count": null,
   "metadata": {},
   "outputs": [],
   "source": [
    "# load classification results\n",
    "results = pd.read_csv(f\"{project_location}/featurization/complete_CellFeaturizer/calculated_image_features.csv\")\n",
    "results"
   ]
  }
 ],
 "metadata": {
  "kernelspec": {
   "display_name": "scportrait_new",
   "language": "python",
   "name": "python3"
  },
  "language_info": {
   "codemirror_mode": {
    "name": "ipython",
    "version": 3
   },
   "file_extension": ".py",
   "mimetype": "text/x-python",
   "name": "python",
   "nbconvert_exporter": "python",
   "pygments_lexer": "ipython3",
   "version": "3.10.0"
  }
 },
 "nbformat": 4,
 "nbformat_minor": 2
}
